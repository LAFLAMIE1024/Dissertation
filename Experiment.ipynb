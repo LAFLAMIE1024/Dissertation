{
 "cells": [
  {
   "cell_type": "code",
   "execution_count": 19,
   "metadata": {},
   "outputs": [],
   "source": [
    "# Loading library\n",
    "import pandas as pd\n",
    "import numpy as np\n",
    "from sklearn.impute import SimpleImputer\n",
    "from sklearn.model_selection import train_test_split\n",
    "from sklearn.metrics import accuracy_score, confusion_matrix, f1_score, recall_score, precision_score\n",
    "from sklearn.ensemble import RandomForestRegressor\n",
    "import matplotlib.pyplot as plt\n",
    "import seaborn as sns"
   ]
  },
  {
   "cell_type": "code",
   "execution_count": 3,
   "metadata": {},
   "outputs": [],
   "source": [
    "import xgboost as xgb"
   ]
  },
  {
   "cell_type": "code",
   "execution_count": 4,
   "metadata": {},
   "outputs": [],
   "source": [
    "from ucimlrepo import fetch_ucirepo \n",
    "  \n",
    "# fetch dataset \n",
    "concrete_compressive_strength = fetch_ucirepo(id=45)\n",
    "\n",
    "original_df = concrete_compressive_strength.data.original"
   ]
  },
  {
   "cell_type": "code",
   "execution_count": 15,
   "metadata": {},
   "outputs": [
    {
     "data": {
      "text/html": [
       "<div>\n",
       "<style scoped>\n",
       "    .dataframe tbody tr th:only-of-type {\n",
       "        vertical-align: middle;\n",
       "    }\n",
       "\n",
       "    .dataframe tbody tr th {\n",
       "        vertical-align: top;\n",
       "    }\n",
       "\n",
       "    .dataframe thead th {\n",
       "        text-align: right;\n",
       "    }\n",
       "</style>\n",
       "<table border=\"1\" class=\"dataframe\">\n",
       "  <thead>\n",
       "    <tr style=\"text-align: right;\">\n",
       "      <th></th>\n",
       "      <th>age</th>\n",
       "      <th>sex</th>\n",
       "      <th>cp</th>\n",
       "      <th>trestbps</th>\n",
       "      <th>chol</th>\n",
       "      <th>fbs</th>\n",
       "      <th>restecg</th>\n",
       "      <th>thalach</th>\n",
       "      <th>exang</th>\n",
       "      <th>oldpeak</th>\n",
       "      <th>slope</th>\n",
       "      <th>ca</th>\n",
       "      <th>thal</th>\n",
       "      <th>num</th>\n",
       "    </tr>\n",
       "  </thead>\n",
       "  <tbody>\n",
       "    <tr>\n",
       "      <th>0</th>\n",
       "      <td>63</td>\n",
       "      <td>1</td>\n",
       "      <td>1</td>\n",
       "      <td>145</td>\n",
       "      <td>233</td>\n",
       "      <td>1</td>\n",
       "      <td>2</td>\n",
       "      <td>150</td>\n",
       "      <td>0</td>\n",
       "      <td>2.3</td>\n",
       "      <td>3</td>\n",
       "      <td>0.0</td>\n",
       "      <td>6.0</td>\n",
       "      <td>0</td>\n",
       "    </tr>\n",
       "    <tr>\n",
       "      <th>1</th>\n",
       "      <td>67</td>\n",
       "      <td>1</td>\n",
       "      <td>4</td>\n",
       "      <td>160</td>\n",
       "      <td>286</td>\n",
       "      <td>0</td>\n",
       "      <td>2</td>\n",
       "      <td>108</td>\n",
       "      <td>1</td>\n",
       "      <td>1.5</td>\n",
       "      <td>2</td>\n",
       "      <td>3.0</td>\n",
       "      <td>3.0</td>\n",
       "      <td>2</td>\n",
       "    </tr>\n",
       "    <tr>\n",
       "      <th>2</th>\n",
       "      <td>67</td>\n",
       "      <td>1</td>\n",
       "      <td>4</td>\n",
       "      <td>120</td>\n",
       "      <td>229</td>\n",
       "      <td>0</td>\n",
       "      <td>2</td>\n",
       "      <td>129</td>\n",
       "      <td>1</td>\n",
       "      <td>2.6</td>\n",
       "      <td>2</td>\n",
       "      <td>2.0</td>\n",
       "      <td>7.0</td>\n",
       "      <td>1</td>\n",
       "    </tr>\n",
       "    <tr>\n",
       "      <th>3</th>\n",
       "      <td>37</td>\n",
       "      <td>1</td>\n",
       "      <td>3</td>\n",
       "      <td>130</td>\n",
       "      <td>250</td>\n",
       "      <td>0</td>\n",
       "      <td>0</td>\n",
       "      <td>187</td>\n",
       "      <td>0</td>\n",
       "      <td>3.5</td>\n",
       "      <td>3</td>\n",
       "      <td>0.0</td>\n",
       "      <td>3.0</td>\n",
       "      <td>0</td>\n",
       "    </tr>\n",
       "    <tr>\n",
       "      <th>4</th>\n",
       "      <td>41</td>\n",
       "      <td>0</td>\n",
       "      <td>2</td>\n",
       "      <td>130</td>\n",
       "      <td>204</td>\n",
       "      <td>0</td>\n",
       "      <td>2</td>\n",
       "      <td>172</td>\n",
       "      <td>0</td>\n",
       "      <td>1.4</td>\n",
       "      <td>1</td>\n",
       "      <td>0.0</td>\n",
       "      <td>3.0</td>\n",
       "      <td>0</td>\n",
       "    </tr>\n",
       "  </tbody>\n",
       "</table>\n",
       "</div>"
      ],
      "text/plain": [
       "   age  sex  cp  trestbps  chol  fbs  restecg  thalach  exang  oldpeak  slope  \\\n",
       "0   63    1   1       145   233    1        2      150      0      2.3      3   \n",
       "1   67    1   4       160   286    0        2      108      1      1.5      2   \n",
       "2   67    1   4       120   229    0        2      129      1      2.6      2   \n",
       "3   37    1   3       130   250    0        0      187      0      3.5      3   \n",
       "4   41    0   2       130   204    0        2      172      0      1.4      1   \n",
       "\n",
       "    ca  thal  num  \n",
       "0  0.0   6.0    0  \n",
       "1  3.0   3.0    2  \n",
       "2  2.0   7.0    1  \n",
       "3  0.0   3.0    0  \n",
       "4  0.0   3.0    0  "
      ]
     },
     "execution_count": 15,
     "metadata": {},
     "output_type": "execute_result"
    }
   ],
   "source": [
    "original_df.head()"
   ]
  },
  {
   "cell_type": "code",
   "execution_count": 4,
   "metadata": {},
   "outputs": [
    {
     "name": "stdout",
     "output_type": "stream",
     "text": [
      "(303, 14)\n",
      "6\n"
     ]
    }
   ],
   "source": [
    "print(original_df.shape)\n",
    "print(pd.isna(original_df).sum().sum())"
   ]
  },
  {
   "cell_type": "markdown",
   "metadata": {},
   "source": [
    "# Preprocessing"
   ]
  },
  {
   "cell_type": "code",
   "execution_count": 5,
   "metadata": {},
   "outputs": [],
   "source": [
    "df = original_df.copy()\n",
    "df.loc[df[(df['num'] > 0)].index.tolist(),'num'] = 1"
   ]
  },
  {
   "cell_type": "markdown",
   "metadata": {},
   "source": [
    "# Complete Case"
   ]
  },
  {
   "cell_type": "code",
   "execution_count": null,
   "metadata": {},
   "outputs": [
    {
     "data": {
      "text/plain": [
       "(297, 14)"
      ]
     },
     "metadata": {},
     "output_type": "display_data"
    }
   ],
   "source": [
    "dropped_df = df.dropna()\n",
    "dropped_df.shape"
   ]
  },
  {
   "cell_type": "code",
   "execution_count": null,
   "metadata": {},
   "outputs": [
    {
     "name": "stdout",
     "output_type": "stream",
     "text": [
      "Accuracy: 83.33%\n"
     ]
    },
    {
     "name": "stderr",
     "output_type": "stream",
     "text": [
      "d:\\Anaconda\\lib\\site-packages\\xgboost\\core.py:158: UserWarning: [22:30:37] WARNING: C:\\buildkite-agent\\builds\\buildkite-windows-cpu-autoscaling-group-i-0015a694724fa8361-1\\xgboost\\xgboost-ci-windows\\src\\learner.cc:740: \n",
      "Parameters: { \"use_label_encoder\" } are not used.\n",
      "\n",
      "  warnings.warn(smsg, UserWarning)\n"
     ]
    }
   ],
   "source": [
    "X = dropped_df.drop('num', axis=1)\n",
    "y = dropped_df['num']\n",
    "\n",
    "X_train, X_test, y_train, y_test = train_test_split(X, y, test_size=0.2, random_state=42)\n",
    "\n",
    "model = xgb.XGBClassifier(use_label_encoder=False, eval_metric='logloss')\n",
    "model.fit(X_train, y_train)\n",
    "\n",
    "y_pred = model.predict(X_test)\n",
    "\n",
    "accuracy = accuracy_score(y_test, y_pred)\n",
    "print(f'Accuracy: {accuracy * 100:.2f}%')"
   ]
  },
  {
   "cell_type": "code",
   "execution_count": null,
   "metadata": {},
   "outputs": [
    {
     "data": {
      "image/png": "[encoded data removed]",
      "text/plain": [
       "<Figure size 1000x700 with 2 Axes>"
      ]
     },
     "metadata": {},
     "output_type": "display_data"
    }
   ],
   "source": [
    "cm = confusion_matrix(y_test, y_pred)\n",
    "plt.figure(figsize=(10, 7))\n",
    "sns.heatmap(cm, annot=True, fmt='d', cmap='Blues', xticklabels=range(2), yticklabels=range(2))\n",
    "plt.xlabel('Predicted')\n",
    "plt.ylabel('Actual')\n",
    "plt.title('Confusion Matrix')\n",
    "plt.show()"
   ]
  },
  {
   "cell_type": "markdown",
   "metadata": {},
   "source": [
    "# Generating Missing values (Implementation)\n",
    "\n",
    "The percentage of missing values goes from 10% to 50%. And missing values of all 3 kinds (Missing Completely At Random/Missing At Random/Missing Not At Randoma) are mixed.\n",
    "\n",
    "The way of creating missing values are described in the following subsections."
   ]
  },
  {
   "cell_type": "markdown",
   "metadata": {},
   "source": [
    "## Define MCAR"
   ]
  },
  {
   "cell_type": "code",
   "execution_count": 6,
   "metadata": {},
   "outputs": [],
   "source": [
    "def generate_pair(length, width): # Input the length and width of the whole data frame\n",
    "    return (np.random.randint(0, length), np.random.randint(0, width)) # generate a pair of numbers, which is the location of the missing entry"
   ]
  },
  {
   "cell_type": "code",
   "execution_count": 7,
   "metadata": {},
   "outputs": [],
   "source": [
    "def insert_mcar(ratio, dataframe): # Input the percentage of mcar, and the data frame\n",
    "\n",
    "    # Number of null values to insert\n",
    "    num_nulls = int(ratio * (dataframe.size))\n",
    "\n",
    "    temp_df = dataframe.copy()\n",
    "\n",
    "    # Randomly choose positions to insert null values\n",
    "    idx_pair = []\n",
    "\n",
    "    for _ in range(num_nulls):\n",
    "        \n",
    "        p = generate_pair(temp_df.shape[0], temp_df.shape[1])\n",
    "        while p in idx_pair: p = generate_pair(temp_df.shape[0], temp_df.shape[1])\n",
    "        idx_pair.append(p)\n",
    "        \n",
    "        temp_df.iat[p[0], p[1]] = np.nan\n",
    "    \n",
    "    return temp_df#, pd.isna(temp_df)"
   ]
  },
  {
   "cell_type": "markdown",
   "metadata": {},
   "source": [
    "## Special Missingness\n",
    "\n",
    "In the following work, we will call both MAR and MNAR the 'special missingness', as they provide much more information than MCAR and have not been fully explored. Meanwhile, 'target variable' refers to the column we chose to place artificial missing. The choice of target variable is worth investigating. On one hand, if we are removing something significantly contribute to the prediction of the outcome, which might lead to poor performance of the model. On the other hand, slight difference could be found if a relatively unrelated variable is chosen to be the target varialbe."
   ]
  },
  {
   "cell_type": "markdown",
   "metadata": {},
   "source": [
    "## Define MAR\n",
    "\n",
    "Suppose column 1 and 2 are selected for generating MAR, and we want to remove some values in column 1 based on the values appear on column 2. There are infinite way of creating missing values. Here we would exclude the output column 'num' from candidate variable as missingness in response variable will not be fed into the predictive model.\n",
    "\n",
    "Notice that we are handling a data set with mixed type of features (Integer/Categorical, all in form of number), and thus the choice of variable to be based on is vital. \n",
    "\n",
    "In this case, we are introducing MAR in column based on 'quantile' of integer variables.\n",
    "\n",
    "To be specific, say we need 6 percent data MAR of the whole data set, and if the value in column 'age' of an entry is smaller than 6th quantile of column 'age', then we remove the value in column 'trestbps'.\n",
    "\n",
    "Since the distribution of categorical variable determines the percentage of missing values, which means that it could not be adjusted for experimental purpose, we are not using any categorical variable."
   ]
  },
  {
   "cell_type": "code",
   "execution_count": 8,
   "metadata": {},
   "outputs": [],
   "source": [
    "def insert_mar(ratio, dataframe): \n",
    "    \n",
    "    \"\"\"\n",
    "    This function generates missing values in column 1 based on the values in column 2\n",
    "    \"\"\"\n",
    "    \n",
    "    temp_df = dataframe.copy()\n",
    "\n",
    "    target_idx = temp_df['age'] < temp_df['age'].quantile(ratio)\n",
    "    temp_df.iloc[target_idx, 4] = np.nan\n",
    "    \n",
    "    return temp_df#, pd.isna(temp_df)"
   ]
  },
  {
   "cell_type": "markdown",
   "metadata": {},
   "source": [
    "## Define MNAR\n",
    "\n",
    "Values in a certain column could be removed based on the values themselves. Similarly, if greater than 30 percentage of all the other values in this column, then turn them into null. Or, we can simply set up a known probability for creating missing values, and it is hidden from the downstream task model as the information the missingness of MNAR is depending on should remian unobservable. The way we creat missing values is straightforward, however, it could be much more complex in real world data set. Complicated or domain-specific design of generating missing values for investigation could be further developed to approximate the true situation."
   ]
  },
  {
   "cell_type": "code",
   "execution_count": 9,
   "metadata": {},
   "outputs": [],
   "source": [
    "def insert_mnar(ratio, dataframe, target_column): # Input the percentage of mnar, and the data frame\n",
    "\n",
    "\n",
    "    temp_df = dataframe.copy()\n",
    "\n",
    "    target_idx = temp_df[target_column] < temp_df[target_column].quantile(ratio)\n",
    "    temp_df.iloc[target_idx, 4] = np.nan\n",
    "    \n",
    "    return temp_df#, pd.isna(temp_df)"
   ]
  },
  {
   "cell_type": "code",
   "execution_count": 10,
   "metadata": {},
   "outputs": [],
   "source": [
    "def insert_null(dataframe, ratio_mcar, ratio_mar, ratio_mnar):\n",
    "\n",
    "    # The order matters. Which one goes first?\n",
    "    temp_df = insert_mar(ratio_mar, dataframe)\n",
    "    temp_df = insert_mnar(ratio_mnar, temp_df, 'thalach')\n",
    "    temp_df = insert_mcar(ratio_mcar, temp_df)\n",
    "\n",
    "    return temp_df"
   ]
  },
  {
   "cell_type": "markdown",
   "metadata": {},
   "source": [
    "## Inserting Null values\n",
    "\n",
    "We specify the total missing ratio and manually split it into 3 parts. Notice that due to the unpredictivity of MCAR, the actual missing ratio may be slightly lower than the expected percentage as there might be overlap."
   ]
  },
  {
   "cell_type": "code",
   "execution_count": 12,
   "metadata": {},
   "outputs": [],
   "source": [
    "# total missing ratio = 0.1\n",
    "ratio_mcar, ratio_mar, ratio_mnar = 1/30, 1/30, 1/30\n",
    "missing_df = insert_null(df, ratio_mcar, ratio_mar, ratio_mnar)"
   ]
  },
  {
   "cell_type": "code",
   "execution_count": 13,
   "metadata": {},
   "outputs": [
    {
     "name": "stdout",
     "output_type": "stream",
     "text": [
      "166\n"
     ]
    }
   ],
   "source": [
    "print(pd.isna(missing_df).sum().sum())"
   ]
  },
  {
   "cell_type": "markdown",
   "metadata": {},
   "source": [
    "# Imputation\n",
    "\n",
    "We start with the feature with least missing entries. And use the feature as target, and others as predictors. This method follows a strategy that consider each variable with missing values as the outcome and utilize the other complete column (filled with by the mean of respective columns for continuous and most frequent data for categorical type of data)"
   ]
  },
  {
   "cell_type": "code",
   "execution_count": 14,
   "metadata": {},
   "outputs": [
    {
     "data": {
      "text/plain": [
       "age          8\n",
       "sex          8\n",
       "cp          12\n",
       "trestbps    15\n",
       "chol        30\n",
       "fbs          6\n",
       "restecg     16\n",
       "thalach      7\n",
       "exang       12\n",
       "oldpeak      7\n",
       "slope       12\n",
       "ca          14\n",
       "thal        11\n",
       "num          8\n",
       "dtype: int64"
      ]
     },
     "execution_count": 14,
     "metadata": {},
     "output_type": "execute_result"
    }
   ],
   "source": [
    "missing_reg_df = missing_df.copy()\n",
    "missing_reg_df_nan_count = missing_reg_df.isnull().sum()\n",
    "missing_reg_df_nan_count # Find out which feature contains least missing values"
   ]
  },
  {
   "cell_type": "code",
   "execution_count": 15,
   "metadata": {},
   "outputs": [
    {
     "data": {
      "text/plain": [
       "[5, 7, 9, 0, 1, 13, 12, 2, 8, 10, 11, 3, 6, 4]"
      ]
     },
     "execution_count": 15,
     "metadata": {},
     "output_type": "execute_result"
    }
   ],
   "source": [
    "sort_index_li = np.argsort(missing_reg_df_nan_count).tolist()\n",
    "sort_index_li"
   ]
  },
  {
   "cell_type": "code",
   "execution_count": 16,
   "metadata": {},
   "outputs": [],
   "source": [
    "for i in sort_index_li:\n",
    "\n",
    "    temp_df = missing_reg_df\n",
    "    # print(temp_df.head())\n",
    "    target = temp_df.iloc[:, i] # Get the target column\n",
    "    # print(temp_df.head())\n",
    "    temp_df = temp_df.iloc[:, temp_df.columns != i] # Kick it out of the data frame\n",
    "    # print(temp_df.head())\n",
    "    temp_df_mean = SimpleImputer(missing_values=np.nan, strategy='mean').fit_transform(temp_df) # Fill by respective mean\n",
    "\n",
    "    # Select out the training set\n",
    "    y_train = target[target.notnull()]\n",
    "    x_train = temp_df_mean[y_train.index, :]\n",
    "\n",
    "    # Select out the test set\n",
    "    y_test = target[target.isnull()]\n",
    "    x_test = temp_df_mean[y_test.index, :]\n",
    "\n",
    "    model = RandomForestRegressor()\n",
    "    model.fit(x_train, y_train)\n",
    "    y_predict = model.predict(x_test)\n",
    "\n",
    "    missing_reg_df.iloc[missing_reg_df.iloc[:, i].isnull(), i] = y_predict\n",
    "    \n",
    "    # print(missing_reg_df.head())"
   ]
  },
  {
   "cell_type": "code",
   "execution_count": 11,
   "metadata": {},
   "outputs": [],
   "source": [
    "def impute(missing_df):\n",
    "    \n",
    "    missing_reg_df = missing_df.copy()\n",
    "    missing_reg_df_nan_count = missing_reg_df.isnull().sum()\n",
    "\n",
    "    sort_index_li = np.argsort(missing_reg_df_nan_count).tolist()\n",
    "\n",
    "    for i in sort_index_li:\n",
    "\n",
    "        temp_df = missing_reg_df\n",
    "        # print(temp_df.head())\n",
    "        target = temp_df.iloc[:, i] # Get the target column\n",
    "        # print(temp_df.head())\n",
    "        temp_df = temp_df.iloc[:, temp_df.columns != i] # Kick it out of the data frame\n",
    "        # print(temp_df.head())\n",
    "        temp_df_mean = SimpleImputer(missing_values=np.nan, strategy='mean').fit_transform(temp_df) # Fill by respective mean\n",
    "\n",
    "        # Select out the training set\n",
    "        y_train = target[target.notnull()]\n",
    "        x_train = temp_df_mean[y_train.index, :]\n",
    "\n",
    "        # Select out the test set\n",
    "        y_test = target[target.isnull()]\n",
    "        x_test = temp_df_mean[y_test.index, :]\n",
    "\n",
    "        model = RandomForestRegressor()\n",
    "        model.fit(x_train, y_train)\n",
    "        y_predict = model.predict(x_test)\n",
    "\n",
    "        missing_reg_df.iloc[missing_reg_df.iloc[:, i].isnull(), i] = y_predict\n",
    "\n",
    "    return missing_reg_df\n",
    "    "
   ]
  },
  {
   "cell_type": "code",
   "execution_count": null,
   "metadata": {},
   "outputs": [],
   "source": [
    "# diff_fill_li = [x_full, x_missing_zero, x_missing_mean_df, x_missing_reg_df]\n",
    "\n",
    "# mse = []\n",
    "# std = []\n",
    "\n",
    "# for x in diff_fill_li:\n",
    "#     model = RandomForestRegressor(random_state=0, n_estimators=100)\n",
    "#     scores = cross_val_score(model, x, y_full, scoring='neg_mean_squared_error', cv=5).mean()\n",
    "#     mse.append(scores * -1)"
   ]
  },
  {
   "cell_type": "code",
   "execution_count": 27,
   "metadata": {},
   "outputs": [],
   "source": [
    "def evaluate_acc(df):\n",
    "    X = df.drop('num', axis=1)\n",
    "    y = df['num']\n",
    "\n",
    "    X_train, X_test, y_train, y_test = train_test_split(X, y, test_size=0.2, random_state=42)\n",
    "\n",
    "    model = xgb.XGBClassifier(eval_metric='logloss')\n",
    "    model.fit(X_train, y_train)\n",
    "\n",
    "    y_pred = model.predict(X_test)\n",
    "\n",
    "    accuracy = accuracy_score(y_test, y_pred)\n",
    "    precision = precision_score(y_test, y_pred)\n",
    "    recall = recall_score(y_test, y_pred)\n",
    "    f1 = f1_score(y_test, y_pred)\n",
    "\n",
    "    print(f'Accuracy: {accuracy * 100:.2f}%, Precision: {precision * 100:.2f}%, Recall: {recall * 100:.2f}%, F1: {f1 * 100:.2f}%')\n",
    "\n",
    "    return y_test, y_pred, accuracy, precision, recall, f1"
   ]
  },
  {
   "cell_type": "code",
   "execution_count": 21,
   "metadata": {},
   "outputs": [
    {
     "name": "stdout",
     "output_type": "stream",
     "text": [
      "Accuracy: 83.61%\n"
     ]
    }
   ],
   "source": [
    "evaluate_acc(missing_reg_df)"
   ]
  },
  {
   "cell_type": "code",
   "execution_count": 13,
   "metadata": {},
   "outputs": [],
   "source": [
    "def cm(y_test, y_pred):\n",
    "    res = confusion_matrix(y_test, y_pred)\n",
    "    plt.figure(figsize=(10, 7))\n",
    "    sns.heatmap(res, annot=True, fmt='d', cmap='Blues', xticklabels=range(2), yticklabels=range(2))\n",
    "    plt.xlabel('Predicted')\n",
    "    plt.ylabel('Actual')\n",
    "    plt.title('Confusion Matrix')\n",
    "    plt.show()"
   ]
  },
  {
   "cell_type": "code",
   "execution_count": 24,
   "metadata": {},
   "outputs": [
    {
     "data": {
      "image/png": "[encoded data removed]",
      "text/plain": [
       "<Figure size 1000x700 with 2 Axes>"
      ]
     },
     "metadata": {},
     "output_type": "display_data"
    }
   ],
   "source": [
    "cm(y_test, y_pred)"
   ]
  },
  {
   "cell_type": "markdown",
   "metadata": {},
   "source": [
    "# Experiment"
   ]
  },
  {
   "cell_type": "code",
   "execution_count": 14,
   "metadata": {},
   "outputs": [],
   "source": [
    "def main(ratio_mcar, ratio_mar, ratio_mnar):\n",
    "    \n",
    "    # Create missing values first\n",
    "    missing_df = insert_null(df, ratio_mcar, ratio_mar, ratio_mnar)\n",
    "\n",
    "    # Impute the missing values based on Random Forest\n",
    "    missing_reg_df = impute(missing_df)\n",
    "    \n",
    "    return missing_reg_df"
   ]
  },
  {
   "cell_type": "code",
   "execution_count": 30,
   "metadata": {},
   "outputs": [
    {
     "data": {
      "text/plain": [
       "1.5"
      ]
     },
     "execution_count": 30,
     "metadata": {},
     "output_type": "execute_result"
    }
   ],
   "source": [
    "np.array([1, 2]).mean()"
   ]
  },
  {
   "cell_type": "code",
   "execution_count": 37,
   "metadata": {},
   "outputs": [],
   "source": [
    "def avg_eval(ratio_mcar, ratio_mar, ratio_mnar):\n",
    "    # sum_acc, sum_prec, sum_rec, sum_f1 = 0, 0, 0, 0\n",
    "    acc_li, prec_li, rec_li, f1_li = [], [], [], []\n",
    "    for _ in range(10):\n",
    "        temp_df = main(ratio_mcar, ratio_mar, ratio_mnar)\n",
    "        y_test, y_pred, acc, prec, rec, f1 = evaluate_acc(temp_df)\n",
    "\n",
    "        # Evaluate the performance of the predictive model after imputation\n",
    "        acc_li.append(acc)\n",
    "        prec_li.append(prec)\n",
    "        rec_li.append(rec)\n",
    "        f1_li.append(f1)\n",
    "\n",
    "    # cm(y_test, y_pred)\n",
    "    acc_li, prec_li, rec_li, f1_li = np.array(acc_li), np.array(prec_li), np.array(rec_li), np.array(f1_li)\n",
    "    # print(f'Average Accuracy: {sum_acc * 10:.2f}%, Average Precision: {sum_prec * 10:.2f}%, Average Recall: {sum_rec * 10:.2f}%, Avgerage F1: {sum_f1 * 10:.2f}%')\n",
    "\n",
    "    avg_acc = acc_li.mean() * 100\n",
    "    avg_prec = prec_li.mean() * 100\n",
    "    avg_rec = rec_li.mean() * 100\n",
    "    avg_f1 = f1_li.mean() * 100\n",
    "\n",
    "    print(f'Average Accuracy: {avg_acc :.2f}%, Average Precision: {avg_prec :.2f}%, Average Recall: {avg_rec:.2f}%, Avgerage F1: {avg_f1:.2f}%')\n",
    "\n",
    "    return avg_acc, avg_prec, avg_rec, avg_f1"
   ]
  },
  {
   "cell_type": "code",
   "execution_count": 36,
   "metadata": {},
   "outputs": [
    {
     "name": "stdout",
     "output_type": "stream",
     "text": [
      "Accuracy: 81.97%, Precision: 83.87%, Recall: 81.25%, F1: 82.54%\n",
      "Accuracy: 88.52%, Precision: 87.50%, Recall: 90.32%, F1: 88.89%\n",
      "Accuracy: 85.25%, Precision: 84.38%, Recall: 87.10%, F1: 85.71%\n",
      "Accuracy: 86.89%, Precision: 90.00%, Recall: 84.38%, F1: 87.10%\n",
      "Accuracy: 86.89%, Precision: 87.10%, Recall: 87.10%, F1: 87.10%\n",
      "Accuracy: 86.89%, Precision: 89.66%, Recall: 83.87%, F1: 86.67%\n",
      "Accuracy: 86.89%, Precision: 92.86%, Recall: 81.25%, F1: 86.67%\n",
      "Accuracy: 83.61%, Precision: 83.33%, Recall: 83.33%, F1: 83.33%\n",
      "Accuracy: 78.69%, Precision: 80.65%, Recall: 78.12%, F1: 79.37%\n",
      "Accuracy: 81.97%, Precision: 83.87%, Recall: 81.25%, F1: 82.54%\n"
     ]
    },
    {
     "data": {
      "image/png": "[encoded data removed]",
      "text/plain": [
       "<Figure size 1000x700 with 2 Axes>"
      ]
     },
     "metadata": {},
     "output_type": "display_data"
    },
    {
     "name": "stdout",
     "output_type": "stream",
     "text": [
      "Average Accuracy: 84.75%, Average Precision: 86.32%, Average Recall: 86.32%, Avgerage F1: 86.32%\n"
     ]
    },
    {
     "data": {
      "text/plain": [
       "(84.75409836065573, 86.32045195720112, 86.32045195720112, 86.32045195720112)"
      ]
     },
     "execution_count": 36,
     "metadata": {},
     "output_type": "execute_result"
    }
   ],
   "source": [
    "avg_eval(1/30, 1/30, 1/30)"
   ]
  },
  {
   "cell_type": "code",
   "execution_count": 88,
   "metadata": {},
   "outputs": [
    {
     "name": "stdout",
     "output_type": "stream",
     "text": [
      "Accuracy: 81.97%, Precision: 81.82%, Recall: 84.38%, F1: 83.08%\n",
      "Accuracy: 81.97%, Precision: 80.00%, Recall: 82.76%, F1: 81.36%\n",
      "Accuracy: 83.61%, Precision: 86.21%, Recall: 80.65%, F1: 83.33%\n",
      "Accuracy: 81.97%, Precision: 80.00%, Recall: 87.50%, F1: 83.58%\n",
      "Accuracy: 77.05%, Precision: 76.67%, Recall: 76.67%, F1: 76.67%\n",
      "Accuracy: 85.25%, Precision: 87.10%, Recall: 84.38%, F1: 85.71%\n",
      "Accuracy: 81.97%, Precision: 86.21%, Recall: 78.12%, F1: 81.97%\n",
      "Accuracy: 85.25%, Precision: 86.67%, Recall: 83.87%, F1: 85.25%\n",
      "Accuracy: 88.52%, Precision: 90.32%, Recall: 87.50%, F1: 88.89%\n",
      "Accuracy: 81.97%, Precision: 88.46%, Recall: 74.19%, F1: 80.70%\n",
      "Average Accuracy: 82.95%, Average Precision: 84.34%, Average Recall: 84.34%, Avgerage F1: 84.34%\n"
     ]
    }
   ],
   "source": [
    "avg_acc_li, avg_prec_li, avg_rec_li, avg_f1_li = [], [], [], []\n",
    "avg_acc, avg_prec, avg_rec, avg_f1 = avg_eval(1/30, 1/30, 1/30)\n",
    "\n",
    "avg_acc_li.append(avg_acc)\n",
    "avg_prec_li.append(avg_prec)\n",
    "avg_rec_li.append(avg_rec)\n",
    "avg_f1_li.append(avg_f1)"
   ]
  },
  {
   "cell_type": "markdown",
   "metadata": {},
   "source": [
    "## Increasing MNAR from 1/15 while freezing MCAR and MAR"
   ]
  },
  {
   "cell_type": "code",
   "execution_count": 75,
   "metadata": {},
   "outputs": [
    {
     "name": "stdout",
     "output_type": "stream",
     "text": [
      "Accuracy: 85.25%, Precision: 89.29%, Recall: 80.65%, F1: 84.75%\n",
      "Accuracy: 78.69%, Precision: 91.30%, Recall: 65.62%, F1: 76.36%\n",
      "Accuracy: 81.97%, Precision: 78.12%, Recall: 86.21%, F1: 81.97%\n",
      "Accuracy: 81.97%, Precision: 82.76%, Recall: 80.00%, F1: 81.36%\n",
      "Accuracy: 86.89%, Precision: 87.10%, Recall: 87.10%, F1: 87.10%\n",
      "Accuracy: 77.05%, Precision: 84.00%, Recall: 67.74%, F1: 75.00%\n",
      "Accuracy: 88.52%, Precision: 90.32%, Recall: 87.50%, F1: 88.89%\n",
      "Accuracy: 83.61%, Precision: 83.87%, Recall: 83.87%, F1: 83.87%\n",
      "Accuracy: 80.33%, Precision: 85.19%, Recall: 74.19%, F1: 79.31%\n",
      "Accuracy: 81.97%, Precision: 83.33%, Recall: 80.65%, F1: 81.97%\n",
      "Average Accuracy: 82.62%, Average Precision: 85.53%, Average Recall: 85.53%, Avgerage F1: 85.53%\n"
     ]
    }
   ],
   "source": [
    "avg_acc, avg_prec, avg_rec, avg_f1 = avg_eval(1/30, 1/30, 1/15)\n",
    "avg_acc_li.append(avg_acc)\n",
    "avg_prec_li.append(avg_prec)\n",
    "avg_rec_li.append(avg_rec)\n",
    "avg_f1_li.append(avg_f1)"
   ]
  },
  {
   "cell_type": "code",
   "execution_count": 77,
   "metadata": {},
   "outputs": [
    {
     "name": "stdout",
     "output_type": "stream",
     "text": [
      "Accuracy: 85.25%, Precision: 89.29%, Recall: 80.65%, F1: 84.75%\n",
      "Accuracy: 77.05%, Precision: 81.48%, Recall: 70.97%, F1: 75.86%\n",
      "Accuracy: 77.05%, Precision: 76.67%, Recall: 76.67%, F1: 76.67%\n",
      "Accuracy: 81.97%, Precision: 86.21%, Recall: 78.12%, F1: 81.97%\n",
      "Accuracy: 83.61%, Precision: 85.71%, Recall: 80.00%, F1: 82.76%\n",
      "Accuracy: 83.61%, Precision: 83.87%, Recall: 83.87%, F1: 83.87%\n",
      "Accuracy: 86.89%, Precision: 89.66%, Recall: 83.87%, F1: 86.67%\n",
      "Accuracy: 86.89%, Precision: 89.66%, Recall: 83.87%, F1: 86.67%\n",
      "Accuracy: 80.33%, Precision: 85.71%, Recall: 75.00%, F1: 80.00%\n",
      "Accuracy: 85.25%, Precision: 84.38%, Recall: 87.10%, F1: 85.71%\n",
      "Average Accuracy: 82.79%, Average Precision: 85.26%, Average Recall: 85.26%, Avgerage F1: 85.26%\n"
     ]
    }
   ],
   "source": [
    "avg_acc, avg_prec, avg_rec, avg_f1 = avg_eval(1/30, 1/30, 1/10)\n",
    "avg_acc_li.append(avg_acc)\n",
    "avg_prec_li.append(avg_prec)\n",
    "avg_rec_li.append(avg_rec)\n",
    "avg_f1_li.append(avg_f1)"
   ]
  },
  {
   "cell_type": "code",
   "execution_count": 79,
   "metadata": {},
   "outputs": [
    {
     "name": "stdout",
     "output_type": "stream",
     "text": [
      "Accuracy: 81.97%, Precision: 83.87%, Recall: 81.25%, F1: 82.54%\n",
      "Accuracy: 72.13%, Precision: 75.00%, Recall: 62.07%, F1: 67.92%\n",
      "Accuracy: 83.61%, Precision: 82.35%, Recall: 87.50%, F1: 84.85%\n",
      "Accuracy: 80.33%, Precision: 85.71%, Recall: 75.00%, F1: 80.00%\n",
      "Accuracy: 80.33%, Precision: 78.12%, Recall: 83.33%, F1: 80.65%\n",
      "Accuracy: 78.69%, Precision: 76.47%, Recall: 83.87%, F1: 80.00%\n",
      "Accuracy: 90.16%, Precision: 90.00%, Recall: 90.00%, F1: 90.00%\n",
      "Accuracy: 81.97%, Precision: 83.87%, Recall: 81.25%, F1: 82.54%\n",
      "Accuracy: 77.05%, Precision: 77.42%, Recall: 77.42%, F1: 77.42%\n",
      "Accuracy: 85.25%, Precision: 86.67%, Recall: 83.87%, F1: 85.25%\n",
      "Average Accuracy: 81.15%, Average Precision: 81.95%, Average Recall: 81.95%, Avgerage F1: 81.95%\n"
     ]
    }
   ],
   "source": [
    "avg_acc, avg_prec, avg_rec, avg_f1 = avg_eval(1/30, 1/30, 1/5)\n",
    "avg_acc_li.append(avg_acc)\n",
    "avg_prec_li.append(avg_prec)\n",
    "avg_rec_li.append(avg_rec)\n",
    "avg_f1_li.append(avg_f1)"
   ]
  },
  {
   "cell_type": "code",
   "execution_count": 81,
   "metadata": {},
   "outputs": [],
   "source": [
    "mnar_avg_acc_li = avg_acc_li\n",
    "mnar_avg_prec_li = avg_prec_li\n",
    "mnar_avg_rec_li = avg_rec_li\n",
    "mnar_avg_f1_li = avg_f1_li"
   ]
  },
  {
   "cell_type": "code",
   "execution_count": 80,
   "metadata": {},
   "outputs": [
    {
     "data": {
      "text/plain": [
       "4"
      ]
     },
     "execution_count": 80,
     "metadata": {},
     "output_type": "execute_result"
    }
   ],
   "source": [
    "len(avg_acc_li)"
   ]
  },
  {
   "cell_type": "markdown",
   "metadata": {},
   "source": [
    "## Increasing MCAR from 1/15 while freezing MNAR and MAR"
   ]
  },
  {
   "cell_type": "code",
   "execution_count": 84,
   "metadata": {},
   "outputs": [
    {
     "name": "stdout",
     "output_type": "stream",
     "text": [
      "Accuracy: 81.97%, Precision: 77.42%, Recall: 85.71%, F1: 81.36%\n",
      "Accuracy: 78.69%, Precision: 79.31%, Recall: 76.67%, F1: 77.97%\n",
      "Accuracy: 85.25%, Precision: 83.87%, Recall: 86.67%, F1: 85.25%\n",
      "Accuracy: 80.33%, Precision: 83.33%, Recall: 78.12%, F1: 80.65%\n",
      "Accuracy: 77.05%, Precision: 70.00%, Recall: 80.77%, F1: 75.00%\n",
      "Accuracy: 80.33%, Precision: 81.25%, Recall: 81.25%, F1: 81.25%\n",
      "Accuracy: 80.33%, Precision: 91.30%, Recall: 67.74%, F1: 77.78%\n",
      "Accuracy: 78.69%, Precision: 77.42%, Recall: 80.00%, F1: 78.69%\n",
      "Accuracy: 77.05%, Precision: 72.41%, Recall: 77.78%, F1: 75.00%\n",
      "Accuracy: 78.69%, Precision: 82.14%, Recall: 74.19%, F1: 77.97%\n",
      "Average Accuracy: 79.84%, Average Precision: 79.85%, Average Recall: 79.85%, Avgerage F1: 79.85%\n"
     ]
    }
   ],
   "source": [
    "avg_acc, avg_prec, avg_rec, avg_f1 = avg_eval(1/15, 1/30, 1/30)\n",
    "avg_acc_li.append(avg_acc)\n",
    "avg_prec_li.append(avg_prec)\n",
    "avg_rec_li.append(avg_rec)\n",
    "avg_f1_li.append(avg_f1)"
   ]
  },
  {
   "cell_type": "code",
   "execution_count": 85,
   "metadata": {},
   "outputs": [
    {
     "name": "stdout",
     "output_type": "stream",
     "text": [
      "Accuracy: 86.89%, Precision: 88.89%, Recall: 82.76%, F1: 85.71%\n",
      "Accuracy: 83.61%, Precision: 75.86%, Recall: 88.00%, F1: 81.48%\n",
      "Accuracy: 80.33%, Precision: 79.31%, Recall: 79.31%, F1: 79.31%\n",
      "Accuracy: 77.05%, Precision: 84.00%, Recall: 67.74%, F1: 75.00%\n",
      "Accuracy: 80.33%, Precision: 80.77%, Recall: 75.00%, F1: 77.78%\n",
      "Accuracy: 78.69%, Precision: 84.00%, Recall: 70.00%, F1: 76.36%\n",
      "Accuracy: 77.05%, Precision: 72.73%, Recall: 82.76%, F1: 77.42%\n",
      "Accuracy: 80.33%, Precision: 85.19%, Recall: 74.19%, F1: 79.31%\n",
      "Accuracy: 81.97%, Precision: 85.71%, Recall: 77.42%, F1: 81.36%\n",
      "Accuracy: 72.13%, Precision: 70.37%, Recall: 67.86%, F1: 69.09%\n",
      "Average Accuracy: 79.84%, Average Precision: 80.68%, Average Recall: 80.68%, Avgerage F1: 80.68%\n"
     ]
    }
   ],
   "source": [
    "\n",
    "avg_acc, avg_prec, avg_rec, avg_f1 = avg_eval(1/10, 1/30, 1/30)\n",
    "avg_acc_li.append(avg_acc)\n",
    "avg_prec_li.append(avg_prec)\n",
    "avg_rec_li.append(avg_rec)\n",
    "avg_f1_li.append(avg_f1)"
   ]
  },
  {
   "cell_type": "code",
   "execution_count": 86,
   "metadata": {},
   "outputs": [
    {
     "name": "stdout",
     "output_type": "stream",
     "text": [
      "Accuracy: 78.69%, Precision: 75.00%, Recall: 72.00%, F1: 73.47%\n",
      "Accuracy: 81.97%, Precision: 76.92%, Recall: 80.00%, F1: 78.43%\n",
      "Accuracy: 72.13%, Precision: 73.08%, Recall: 65.52%, F1: 69.09%\n",
      "Accuracy: 62.30%, Precision: 56.00%, Recall: 53.85%, F1: 54.90%\n",
      "Accuracy: 70.49%, Precision: 70.83%, Recall: 60.71%, F1: 65.38%\n",
      "Accuracy: 65.57%, Precision: 56.52%, Recall: 54.17%, F1: 55.32%\n",
      "Accuracy: 73.77%, Precision: 78.95%, Recall: 55.56%, F1: 65.22%\n",
      "Accuracy: 70.49%, Precision: 72.22%, Recall: 50.00%, F1: 59.09%\n",
      "Accuracy: 72.13%, Precision: 72.00%, Recall: 64.29%, F1: 67.92%\n",
      "Accuracy: 68.85%, Precision: 62.50%, Recall: 74.07%, F1: 67.80%\n",
      "Average Accuracy: 71.64%, Average Precision: 69.40%, Average Recall: 69.40%, Avgerage F1: 69.40%\n"
     ]
    }
   ],
   "source": [
    "\n",
    "avg_acc, avg_prec, avg_rec, avg_f1 = avg_eval(1/5, 1/30, 1/30)\n",
    "avg_acc_li.append(avg_acc)\n",
    "avg_prec_li.append(avg_prec)\n",
    "avg_rec_li.append(avg_rec)\n",
    "avg_f1_li.append(avg_f1)"
   ]
  },
  {
   "cell_type": "code",
   "execution_count": 87,
   "metadata": {},
   "outputs": [],
   "source": [
    "mcar_avg_acc_li = avg_acc_li\n",
    "mcar_avg_prec_li = avg_prec_li\n",
    "mcar_avg_rec_li = avg_rec_li\n",
    "mcar_avg_f1_li = avg_f1_li"
   ]
  },
  {
   "cell_type": "markdown",
   "metadata": {},
   "source": [
    "## Increasing MAR from 1/15 while freezing MCAR and MNAR"
   ]
  },
  {
   "cell_type": "code",
   "execution_count": 89,
   "metadata": {},
   "outputs": [
    {
     "name": "stdout",
     "output_type": "stream",
     "text": [
      "Accuracy: 75.41%, Precision: 75.86%, Recall: 73.33%, F1: 74.58%\n",
      "Accuracy: 81.97%, Precision: 83.87%, Recall: 81.25%, F1: 82.54%\n",
      "Accuracy: 91.80%, Precision: 90.91%, Recall: 93.75%, F1: 92.31%\n",
      "Accuracy: 86.89%, Precision: 86.67%, Recall: 86.67%, F1: 86.67%\n",
      "Accuracy: 88.52%, Precision: 87.88%, Recall: 90.62%, F1: 89.23%\n",
      "Accuracy: 86.89%, Precision: 87.50%, Recall: 87.50%, F1: 87.50%\n",
      "Accuracy: 83.61%, Precision: 86.21%, Recall: 80.65%, F1: 83.33%\n",
      "Accuracy: 80.33%, Precision: 82.76%, Recall: 77.42%, F1: 80.00%\n",
      "Accuracy: 78.69%, Precision: 79.31%, Recall: 76.67%, F1: 77.97%\n",
      "Accuracy: 81.97%, Precision: 86.21%, Recall: 78.12%, F1: 81.97%\n",
      "Average Accuracy: 83.61%, Average Precision: 84.72%, Average Recall: 84.72%, Avgerage F1: 84.72%\n"
     ]
    }
   ],
   "source": [
    "avg_acc, avg_prec, avg_rec, avg_f1 = avg_eval(1/30, 1/15, 1/30) \n",
    "avg_acc_li.append(avg_acc)\n",
    "avg_prec_li.append(avg_prec)\n",
    "avg_rec_li.append(avg_rec)\n",
    "avg_f1_li.append(avg_f1)"
   ]
  },
  {
   "cell_type": "code",
   "execution_count": 90,
   "metadata": {},
   "outputs": [
    {
     "name": "stdout",
     "output_type": "stream",
     "text": [
      "Accuracy: 85.25%, Precision: 86.67%, Recall: 83.87%, F1: 85.25%\n",
      "Accuracy: 80.33%, Precision: 88.46%, Recall: 71.88%, F1: 79.31%\n",
      "Accuracy: 80.33%, Precision: 83.33%, Recall: 78.12%, F1: 80.65%\n",
      "Accuracy: 83.61%, Precision: 89.29%, Recall: 78.12%, F1: 83.33%\n",
      "Accuracy: 88.52%, Precision: 87.50%, Recall: 90.32%, F1: 88.89%\n",
      "Accuracy: 81.97%, Precision: 86.21%, Recall: 78.12%, F1: 81.97%\n",
      "Accuracy: 80.33%, Precision: 82.14%, Recall: 76.67%, F1: 79.31%\n",
      "Accuracy: 83.61%, Precision: 86.67%, Recall: 81.25%, F1: 83.87%\n",
      "Accuracy: 77.05%, Precision: 81.48%, Recall: 70.97%, F1: 75.86%\n",
      "Accuracy: 85.25%, Precision: 81.82%, Recall: 90.00%, F1: 85.71%\n",
      "Average Accuracy: 82.62%, Average Precision: 85.36%, Average Recall: 85.36%, Avgerage F1: 85.36%\n"
     ]
    }
   ],
   "source": [
    "\n",
    "avg_acc, avg_prec, avg_rec, avg_f1 = avg_eval(1/30, 1/10, 1/30)\n",
    "avg_acc_li.append(avg_acc)\n",
    "avg_prec_li.append(avg_prec)\n",
    "avg_rec_li.append(avg_rec)\n",
    "avg_f1_li.append(avg_f1)"
   ]
  },
  {
   "cell_type": "code",
   "execution_count": 91,
   "metadata": {},
   "outputs": [
    {
     "name": "stdout",
     "output_type": "stream",
     "text": [
      "Accuracy: 80.33%, Precision: 82.76%, Recall: 77.42%, F1: 80.00%\n",
      "Accuracy: 86.89%, Precision: 89.66%, Recall: 83.87%, F1: 86.67%\n",
      "Accuracy: 81.97%, Precision: 81.82%, Recall: 84.38%, F1: 83.08%\n",
      "Accuracy: 85.25%, Precision: 89.29%, Recall: 80.65%, F1: 84.75%\n",
      "Accuracy: 86.89%, Precision: 89.66%, Recall: 83.87%, F1: 86.67%\n",
      "Accuracy: 78.69%, Precision: 78.12%, Recall: 80.65%, F1: 79.37%\n",
      "Accuracy: 80.33%, Precision: 82.76%, Recall: 77.42%, F1: 80.00%\n",
      "Accuracy: 83.61%, Precision: 89.29%, Recall: 78.12%, F1: 83.33%\n",
      "Accuracy: 81.97%, Precision: 83.33%, Recall: 80.65%, F1: 81.97%\n",
      "Accuracy: 80.33%, Precision: 78.12%, Recall: 83.33%, F1: 80.65%\n",
      "Average Accuracy: 82.62%, Average Precision: 84.48%, Average Recall: 84.48%, Avgerage F1: 84.48%\n"
     ]
    }
   ],
   "source": [
    "\n",
    "avg_acc, avg_prec, avg_rec, avg_f1 = avg_eval(1/30, 1/5, 1/30)\n",
    "avg_acc_li.append(avg_acc)\n",
    "avg_prec_li.append(avg_prec)\n",
    "avg_rec_li.append(avg_rec)\n",
    "avg_f1_li.append(avg_f1)"
   ]
  },
  {
   "cell_type": "code",
   "execution_count": 92,
   "metadata": {},
   "outputs": [],
   "source": [
    "mar_avg_acc_li = avg_acc_li\n",
    "mar_avg_prec_li = avg_prec_li\n",
    "mar_avg_rec_li = avg_rec_li\n",
    "mar_avg_f1_li = avg_f1_li"
   ]
  },
  {
   "cell_type": "markdown",
   "metadata": {},
   "source": [
    "## Visualize the metrics"
   ]
  },
  {
   "cell_type": "code",
   "execution_count": 97,
   "metadata": {},
   "outputs": [
    {
     "data": {
      "image/png": "[encoded data removed]",
      "text/plain": [
       "<Figure size 640x480 with 1 Axes>"
      ]
     },
     "metadata": {},
     "output_type": "display_data"
    }
   ],
   "source": [
    "import matplotlib.pyplot as plt\n",
    "\n",
    "# 横坐标\n",
    "x = ['1/30', '1/15', '1/10', '1/5']\n",
    "\n",
    "plt.plot(x, mnar_avg_acc_li, color='red', label='mnar')\n",
    "plt.plot(x, mcar_avg_acc_li, color='green', label='mcar')\n",
    "plt.plot(x, mar_avg_acc_li, color='blue', label='mar')\n",
    "\n",
    "plt.xlabel('Percentage')\n",
    "plt.ylabel('Accuracy')\n",
    "plt.title('Average Accuracy Performance Lines')\n",
    "plt.legend()\n",
    "plt.show()\n"
   ]
  },
  {
   "cell_type": "code",
   "execution_count": 98,
   "metadata": {},
   "outputs": [
    {
     "data": {
      "image/png": "[encoded data removed]",
      "text/plain": [
       "<Figure size 640x480 with 1 Axes>"
      ]
     },
     "metadata": {},
     "output_type": "display_data"
    }
   ],
   "source": [
    "plt.plot(x, mnar_avg_prec_li, color='red', label='mnar')\n",
    "plt.plot(x, mcar_avg_prec_li, color='green', label='mcar')\n",
    "plt.plot(x, mar_avg_prec_li, color='blue', label='mar')\n",
    "\n",
    "plt.xlabel('Percentage')\n",
    "plt.ylabel('Precision')\n",
    "plt.title('Average Precision Performance Lines')\n",
    "plt.legend()\n",
    "plt.show()"
   ]
  },
  {
   "cell_type": "code",
   "execution_count": 99,
   "metadata": {},
   "outputs": [
    {
     "data": {
      "image/png": "[encoded data removed]",
      "text/plain": [
       "<Figure size 640x480 with 1 Axes>"
      ]
     },
     "metadata": {},
     "output_type": "display_data"
    }
   ],
   "source": [
    "plt.plot(x, mnar_avg_rec_li, color='red', label='mnar')\n",
    "plt.plot(x, mcar_avg_rec_li, color='green', label='mcar')\n",
    "plt.plot(x, mar_avg_rec_li, color='blue', label='mar')\n",
    "\n",
    "plt.xlabel('Percentage')\n",
    "plt.ylabel('Recall')\n",
    "plt.title('Average Recall Performance Lines')\n",
    "plt.legend()\n",
    "plt.show()"
   ]
  },
  {
   "cell_type": "code",
   "execution_count": 100,
   "metadata": {},
   "outputs": [
    {
     "data": {
      "image/png": "[encoded data removed]",
      "text/plain": [
       "<Figure size 640x480 with 1 Axes>"
      ]
     },
     "metadata": {},
     "output_type": "display_data"
    }
   ],
   "source": [
    "plt.plot(x, mnar_avg_f1_li, color='red', label='mnar')\n",
    "plt.plot(x, mcar_avg_f1_li, color='green', label='mcar')\n",
    "plt.plot(x, mar_avg_f1_li, color='blue', label='mar')\n",
    "\n",
    "plt.xlabel('Percentage')\n",
    "plt.ylabel('F1 Score')\n",
    "plt.title('Average F1 Score Performance Lines')\n",
    "plt.legend()\n",
    "plt.show()"
   ]
  }
 ],
 "metadata": {
  "kernelspec": {
   "display_name": "base",
   "language": "python",
   "name": "python3"
  },
  "language_info": {
   "codemirror_mode": {
    "name": "ipython",
    "version": 3
   },
   "file_extension": ".py",
   "mimetype": "text/x-python",
   "name": "python",
   "nbconvert_exporter": "python",
   "pygments_lexer": "ipython3",
   "version": "3.10.9"
  }
 },
 "nbformat": 4,
 "nbformat_minor": 2
}
